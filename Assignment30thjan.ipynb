{
 "cells": [
  {
   "cell_type": "code",
   "execution_count": 1,
   "id": "a1521d15-489e-4436-be6f-980c5ea691ec",
   "metadata": {},
   "outputs": [
    {
     "name": "stdin",
     "output_type": "stream",
     "text": [
      "Enter your Percentage =  95\n"
     ]
    },
    {
     "name": "stdout",
     "output_type": "stream",
     "text": [
      "A\n"
     ]
    }
   ],
   "source": [
    "# Question 1\n",
    "per = float(input('Enter your Percentage = '))\n",
    "if per>90:\n",
    "    print('A')\n",
    "elif per>80 and per<=90:\n",
    "    print('B')\n",
    "elif per>=60 and per<=80:\n",
    "    print('C')\n",
    "else:\n",
    "    print('D')\n"
   ]
  },
  {
   "cell_type": "code",
   "execution_count": 7,
   "id": "533e0520-dbaa-4e23-9a82-f0dddc65785b",
   "metadata": {},
   "outputs": [
    {
     "name": "stdin",
     "output_type": "stream",
     "text": [
      "Price =  30000\n"
     ]
    },
    {
     "name": "stdout",
     "output_type": "stream",
     "text": [
      "Tax price =  1500.0\n"
     ]
    }
   ],
   "source": [
    "# Question 2\n",
    "price = int(input('Price = '))\n",
    "tax = None\n",
    "if price<=50000:\n",
    "    tax= price*0.05\n",
    "elif price>50000 and price<=100000:\n",
    "    tax = price*0.10\n",
    "else:\n",
    "    tax = price*0.15\n",
    "print('Tax price = ',tax)"
   ]
  },
  {
   "cell_type": "code",
   "execution_count": 8,
   "id": "25a4c139-3c4a-4df5-9f64-addc83f639bc",
   "metadata": {},
   "outputs": [
    {
     "name": "stdin",
     "output_type": "stream",
     "text": [
      "Enter the name of the city:  Delhi\n"
     ]
    },
    {
     "name": "stdout",
     "output_type": "stream",
     "text": [
      "Red Fort\n"
     ]
    }
   ],
   "source": [
    "#question3\n",
    "city =str(input(\"Enter the name of the city: \"))\n",
    "if city=='Delhi'or city=='delhi':\n",
    "    print(\"Red Fort\")\n",
    "elif city=='Agra' or city=='agra':\n",
    "    print(\"Taj Mahal\")\n",
    "elif city=='Jaipur' or city=='jaipur':\n",
    "    print(\"Jal Mahal\")\n",
    "else:\n",
    "    pass"
   ]
  },
  {
   "cell_type": "code",
   "execution_count": 16,
   "id": "715e5978-b465-4fe6-82ed-537170e648a9",
   "metadata": {},
   "outputs": [
    {
     "name": "stdin",
     "output_type": "stream",
     "text": [
      "Enter a number =  1000\n"
     ]
    },
    {
     "name": "stdout",
     "output_type": "stream",
     "text": [
      "Number of Times= 5\n"
     ]
    }
   ],
   "source": [
    "#question4\n",
    "num = int(input(\"Enter a number = \"))\n",
    "count= 0\n",
    "while num>10:\n",
    "    num =num/3;\n",
    "    count +=1\n",
    "print('Number of Times=',count)"
   ]
  },
  {
   "cell_type": "code",
   "execution_count": 15,
   "id": "50b5fc6b-e586-4f6f-b85d-120f53675fd2",
   "metadata": {},
   "outputs": [
    {
     "name": "stdout",
     "output_type": "stream",
     "text": [
      "Hello world\n",
      "Hello world\n",
      "Hello world\n",
      "Hello world\n"
     ]
    }
   ],
   "source": [
    "#question5\n",
    "#The while loop executes a set of statements as long as a condition is true.\n",
    "i = 1\n",
    "while i < 5:\n",
    "    print(\"Hello world\")\n",
    "    i = i + 1"
   ]
  },
  {
   "cell_type": "code",
   "execution_count": 17,
   "id": "7c533277-20f2-411b-a279-974988399efe",
   "metadata": {},
   "outputs": [
    {
     "name": "stdout",
     "output_type": "stream",
     "text": [
      "1st\n",
      "\n",
      "* \n",
      "* * \n",
      "* * * \n",
      "* * * * \n",
      "* * * * * \n",
      "\n",
      "2nd\n",
      "\n",
      "* * * * * * \n",
      "* * * * * \n",
      "* * * * \n",
      "* * * \n",
      "* * \n",
      "\n",
      "3rd\n",
      "\n",
      "     * \n",
      "    * * \n",
      "   * * * \n",
      "  * * * * \n",
      " * * * * * \n"
     ]
    }
   ],
   "source": [
    "# Question 6\n",
    "n=5\n",
    "print('1st\\n')\n",
    "i=0\n",
    "while i<n:\n",
    "    j=0\n",
    "    while j<=i:\n",
    "        print('*',end=' ')\n",
    "        j+=1\n",
    "    i+=1\n",
    "    print()\n",
    "    \n",
    "\n",
    "print('\\n2nd\\n')\n",
    "i=0\n",
    "while i<n:\n",
    "    j=n\n",
    "    while j>=i:\n",
    "        print('*',end=' ')\n",
    "        j-=1\n",
    "    i+=1\n",
    "    print()\n",
    "    \n",
    "print('\\n3rd\\n')\n",
    "i=0\n",
    "while i<n:\n",
    "    sp=n-1\n",
    "    while sp>=i:\n",
    "        print(end=' ')\n",
    "        sp-=1\n",
    "    j=0\n",
    "    while j<=i:\n",
    "        print('*',end=' ')\n",
    "        j+=1\n",
    "    i+=1\n",
    "    print()"
   ]
  },
  {
   "cell_type": "code",
   "execution_count": 18,
   "id": "e18782c8-118a-4dd1-915c-f7d1c2ba7c4b",
   "metadata": {},
   "outputs": [
    {
     "name": "stdout",
     "output_type": "stream",
     "text": [
      "10\n",
      "9\n",
      "8\n",
      "7\n",
      "6\n",
      "5\n",
      "4\n",
      "3\n",
      "2\n",
      "1\n"
     ]
    }
   ],
   "source": [
    "# Question 7\n",
    "num=10\n",
    "while num>0:\n",
    "    print(num)\n",
    "    num-=1"
   ]
  },
  {
   "cell_type": "code",
   "execution_count": 19,
   "id": "f519ca51-cf77-488c-b591-513e70967dc1",
   "metadata": {},
   "outputs": [
    {
     "name": "stdout",
     "output_type": "stream",
     "text": [
      "10\n",
      "9\n",
      "8\n",
      "7\n",
      "6\n",
      "5\n",
      "4\n",
      "3\n",
      "2\n",
      "1\n"
     ]
    }
   ],
   "source": [
    "# Question 8\n",
    "num=10\n",
    "while num>0:\n",
    "    print(num)\n",
    "    num-=1\n"
   ]
  },
  {
   "cell_type": "code",
   "execution_count": null,
   "id": "33dc0746-7fba-4378-bb79-3decbd25e52c",
   "metadata": {},
   "outputs": [],
   "source": []
  }
 ],
 "metadata": {
  "kernelspec": {
   "display_name": "Python 3 (ipykernel)",
   "language": "python",
   "name": "python3"
  },
  "language_info": {
   "codemirror_mode": {
    "name": "ipython",
    "version": 3
   },
   "file_extension": ".py",
   "mimetype": "text/x-python",
   "name": "python",
   "nbconvert_exporter": "python",
   "pygments_lexer": "ipython3",
   "version": "3.10.8"
  }
 },
 "nbformat": 4,
 "nbformat_minor": 5
}
